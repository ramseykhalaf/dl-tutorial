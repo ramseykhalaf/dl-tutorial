{
 "cells": [
  {
   "cell_type": "code",
   "execution_count": 6,
   "metadata": {},
   "outputs": [
    {
     "name": "stdout",
     "output_type": "stream",
     "text": [
      "Extracting MNIST_data/train-images-idx3-ubyte.gz\n",
      "Extracting MNIST_data/train-labels-idx1-ubyte.gz\n",
      "Extracting MNIST_data/t10k-images-idx3-ubyte.gz\n",
      "Extracting MNIST_data/t10k-labels-idx1-ubyte.gz\n"
     ]
    }
   ],
   "source": [
    "from tensorflow.examples.tutorials.mnist import input_data\n",
    "mnist = input_data.read_data_sets(\"MNIST_data/\", one_hot=True)"
   ]
  },
  {
   "cell_type": "code",
   "execution_count": null,
   "metadata": {
    "collapsed": true
   },
   "outputs": [],
   "source": [
    "mnist.train.images.shape"
   ]
  },
  {
   "cell_type": "code",
   "execution_count": null,
   "metadata": {
    "collapsed": true
   },
   "outputs": [],
   "source": [
    "batch_x, batch_y = mnist.train.next_batch(batch_size=10)"
   ]
  },
  {
   "cell_type": "code",
   "execution_count": null,
   "metadata": {
    "collapsed": true
   },
   "outputs": [],
   "source": [
    "x.shape"
   ]
  },
  {
   "cell_type": "code",
   "execution_count": null,
   "metadata": {
    "collapsed": true
   },
   "outputs": [],
   "source": [
    "import matplotlib\n",
    "%matplotlib inline\n",
    "import matplotlib.pyplot as plt"
   ]
  },
  {
   "cell_type": "code",
   "execution_count": null,
   "metadata": {
    "collapsed": true
   },
   "outputs": [],
   "source": [
    "plt.imshow(x[5].reshape((28, 28)), cmap='gray')"
   ]
  },
  {
   "cell_type": "code",
   "execution_count": 3,
   "metadata": {
    "collapsed": true
   },
   "outputs": [],
   "source": [
    "import tensorflow as tf\n",
    "NUM_HIDDEN = 20\n",
    "NUM_OUTPUT = 10"
   ]
  },
  {
   "cell_type": "code",
   "execution_count": null,
   "metadata": {
    "collapsed": true
   },
   "outputs": [],
   "source": [
    "tf.reset_default_graph()\n",
    "\n",
    "X = tf.placeholder(shape=(None, 784), dtype=tf.float32, name='X')\n",
    "y = tf.placeholder(shape=(None, 10), dtype=tf.int32, name='y')\n",
    "\n",
    "W1 = tf.get_variable(shape=(784, NUM_HIDDEN),\n",
    "                     dtype=tf.float32,\n",
    "                     initializer=tf.truncated_normal_initializer(mean=0.01),\n",
    "                     name='W1')\n",
    "b1 = tf.get_variable(shape=(NUM_HIDDEN,),\n",
    "                     dtype=tf.float32,\n",
    "                     initializer=tf.zeros_initializer,\n",
    "                     name='b1')\n",
    "\n",
    "net = tf.nn.relu(tf.matmul(X, W1) + b1)\n",
    "\n",
    "W2 = tf.get_variable(shape=(NUM_HIDDEN, NUM_OUTPUT),\n",
    "                     dtype=tf.float32,\n",
    "                     initializer=tf.truncated_normal_initializer(mean=0.01),\n",
    "                     name='W2')\n",
    "b2 = tf.get_variable(shape=(NUM_OUTPUT,),\n",
    "                     dtype=tf.float32,\n",
    "                     initializer=tf.zeros_initializer,\n",
    "                     name='b2')\n",
    "net = tf.matmul(net, W2) + b2\n",
    "\n",
    "loss = tf.nn.softmax_cross_entropy_with_logits(logits=net, labels=y, name='loss')\n",
    "\n",
    "train_op = tf.train.AdamOptimizer(learning_rate=0.001).minimize(loss)\n",
    "\n",
    "accuracy = tf.reduce_mean(tf.cast(tf.equal(tf.argmax(net, axis=1), tf.arg_max(y, dimension=1)), dtype=tf.float32))"
   ]
  },
  {
   "cell_type": "code",
   "execution_count": null,
   "metadata": {
    "collapsed": true,
    "scrolled": true
   },
   "outputs": [],
   "source": [
    "sess = tf.InteractiveSession()\n",
    "sess.run(tf.global_variables_initializer())\n",
    "feed = {X: batch_x, y: batch_y}\n",
    "print(net.eval(feed_dict=feed).argmax(axis=1))\n",
    "print(batch_y.argmax(axis=1))\n",
    "print(accuracy.eval(feed_dict=feed))"
   ]
  },
  {
   "cell_type": "markdown",
   "metadata": {},
   "source": [
    "# Use TensorFlow high level API"
   ]
  },
  {
   "cell_type": "code",
   "execution_count": null,
   "metadata": {
    "collapsed": true
   },
   "outputs": [],
   "source": [
    "tf.reset_default_graph()\n",
    "\n",
    "X = tf.placeholder(shape=(None, 784), dtype=tf.float32, name='X')\n",
    "y = tf.placeholder(shape=(None, 10), dtype=tf.int32, name='y')\n",
    "\n",
    "net = tf.layers.dense(X, units=NUM_HIDDEN,\n",
    "                      use_bias=True,\n",
    "                      kernel_initializer=tf.truncated_normal_initializer(mean=0.1),\n",
    "                      activation=tf.nn.relu,\n",
    "                      name='dense1')\n",
    "net = tf.layers.dense(net, units=NUM_OUTPUT,\n",
    "                      use_bias=True,\n",
    "                      kernel_initializer=tf.truncated_normal_initializer(mean=0.1),\n",
    "                      activation=None,\n",
    "                      name='dense2')\n",
    "loss = tf.nn.softmax_cross_entropy_with_logits(logits=net, labels=y, name='loss')\n",
    "\n",
    "train_op = tf.train.AdamOptimizer(learning_rate=0.001).minimize(loss)\n",
    "\n",
    "accuracy = tf.reduce_mean(tf.cast(tf.equal(tf.argmax(net, axis=1), tf.arg_max(y, dimension=1)), dtype=tf.float32))"
   ]
  },
  {
   "cell_type": "code",
   "execution_count": null,
   "metadata": {
    "collapsed": true
   },
   "outputs": [],
   "source": [
    "sess = tf.InteractiveSession()\n",
    "sess.run(tf.global_variables_initializer())\n",
    "feed = {X: batch_x, y: batch_y}\n",
    "print(net.eval(feed_dict=feed).argmax(axis=1))\n",
    "print(batch_y.argmax(axis=1))\n",
    "print(accuracy.eval(feed_dict=feed))"
   ]
  },
  {
   "cell_type": "markdown",
   "metadata": {},
   "source": [
    "# Use Keras"
   ]
  },
  {
   "cell_type": "code",
   "execution_count": 1,
   "metadata": {},
   "outputs": [
    {
     "name": "stderr",
     "output_type": "stream",
     "text": [
      "Using TensorFlow backend.\n"
     ]
    }
   ],
   "source": [
    "import keras as K"
   ]
  },
  {
   "cell_type": "code",
   "execution_count": 14,
   "metadata": {
    "collapsed": true
   },
   "outputs": [],
   "source": [
    "K.backend.clear_session()\n",
    "model = K.models.Sequential()\n",
    "model.add(K.layers.Dense(units=NUM_HIDDEN, activation='relu', input_shape=(784,)))\n",
    "model.add(K.layers.Dense(units=NUM_OUTPUT, activation='softmax'))\n",
    "\n",
    "model.compile(optimizer='adam', loss='categorical_crossentropy', metrics=['accuracy'])"
   ]
  },
  {
   "cell_type": "code",
   "execution_count": 16,
   "metadata": {},
   "outputs": [
    {
     "name": "stdout",
     "output_type": "stream",
     "text": [
      "Train on 55000 samples, validate on 5000 samples\n",
      "Epoch 1/5\n",
      "55000/55000 [==============================] - 9s - loss: 0.1288 - acc: 0.9615 - val_loss: 0.1507 - val_acc: 0.9526\n",
      "Epoch 2/5\n",
      "55000/55000 [==============================] - 8s - loss: 0.1229 - acc: 0.9632 - val_loss: 0.1479 - val_acc: 0.9574\n",
      "Epoch 3/5\n",
      "55000/55000 [==============================] - 8s - loss: 0.1177 - acc: 0.9646 - val_loss: 0.1534 - val_acc: 0.9568\n",
      "Epoch 4/5\n",
      "55000/55000 [==============================] - 9s - loss: 0.1108 - acc: 0.9664 - val_loss: 0.1562 - val_acc: 0.9534\n",
      "Epoch 5/5\n",
      "55000/55000 [==============================] - 9s - loss: 0.1077 - acc: 0.9673 - val_loss: 0.1507 - val_acc: 0.9572\n"
     ]
    },
    {
     "data": {
      "text/plain": [
       "<keras.callbacks.History at 0x125174a20>"
      ]
     },
     "execution_count": 16,
     "metadata": {},
     "output_type": "execute_result"
    }
   ],
   "source": [
    "model.fit(mnist.train.images, mnist.train.labels,\n",
    "          batch_size=10, epochs=5,\n",
    "          validation_data=(mnist.validation.images, mnist.validation.labels))"
   ]
  },
  {
   "cell_type": "code",
   "execution_count": null,
   "metadata": {
    "collapsed": true
   },
   "outputs": [],
   "source": [
    "model.evaluate"
   ]
  }
 ],
 "metadata": {
  "kernelspec": {
   "display_name": "Python 3",
   "language": "python",
   "name": "python3"
  },
  "language_info": {
   "codemirror_mode": {
    "name": "ipython",
    "version": 3
   },
   "file_extension": ".py",
   "mimetype": "text/x-python",
   "name": "python",
   "nbconvert_exporter": "python",
   "pygments_lexer": "ipython3",
   "version": "3.6.1"
  }
 },
 "nbformat": 4,
 "nbformat_minor": 2
}
